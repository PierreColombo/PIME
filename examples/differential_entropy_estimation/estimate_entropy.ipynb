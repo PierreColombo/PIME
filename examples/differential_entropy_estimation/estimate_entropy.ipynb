{
 "cells": [
  {
   "cell_type": "code",
   "execution_count": null,
   "metadata": {},
   "outputs": [],
   "source": [
    "from main import meta_main, get_args\n",
    "from tools import plot_entropy, plot_pdf\n",
    "from os.path import join\n",
    "import sys\n"
   ]
  },
  {
   "cell_type": "markdown",
   "metadata": {},
   "source": [
    "### First two experiments for $d=10,64$ in Section 3.1.1"
   ]
  },
  {
   "cell_type": "code",
   "execution_count": null,
   "metadata": {},
   "outputs": [],
   "source": [
    "args = get_args([])\n",
    "args.batchsize = 128\n",
    "args.kernel_samples = 128\n",
    "args.epochs = 1\n",
    "args.iterations = 200\n",
    "args.pdf = 'gaussian'\n",
    "args.dimension = 10\n",
    "args.reps = 3\n",
    "args.lr = 1e-2\n",
    "\n",
    "meta_main(args)\n"
   ]
  },
  {
   "cell_type": "code",
   "execution_count": null,
   "metadata": {},
   "outputs": [],
   "source": [
    "args = get_args([])\n",
    "args.batchsize = 128\n",
    "args.kernel_samples = 128\n",
    "args.epochs = 1\n",
    "args.iterations = 200\n",
    "args.pdf = 'gaussian'\n",
    "args.dimension = 64\n",
    "args.reps = 3\n",
    "args.lr = 1e-2\n",
    "\n",
    "meta_main(args)"
   ]
  },
  {
   "cell_type": "markdown",
   "metadata": {},
   "source": [
    "### Experiment depicted in Figure 1"
   ]
  },
  {
   "cell_type": "code",
   "execution_count": null,
   "metadata": {},
   "outputs": [],
   "source": [
    "args = get_args([])\n",
    "args.batchsize = 128\n",
    "args.kernel_samples = 16 #128\n",
    "args.epochs = 5\n",
    "args.iterations = 1000\n",
    "args.pdf = 'gaussian'\n",
    "args.dimension = 16 #64\n",
    "args.rho = 0.5\n",
    "args.rho_steps = 5\n",
    "args.reps = 1\n",
    "args.lr = 1e-2\n",
    "args.run_id = 1\n",
    "\n",
    "log_dir = meta_main(args)\n",
    "plot_entropy(join(log_dir, '1', 'run.json'), show=True)"
   ]
  },
  {
   "cell_type": "markdown",
   "metadata": {},
   "source": [
    "### Experiment depicted in Figure 2(left)"
   ]
  },
  {
   "cell_type": "code",
   "execution_count": null,
   "metadata": {},
   "outputs": [],
   "source": [
    "args = get_args([])\n",
    "args.batchsize = 128\n",
    "args.kernel_samples = 128\n",
    "args.epochs = 10\n",
    "args.iterations = 200\n",
    "args.pdf = 'triangle'\n",
    "args.dimension = 1\n",
    "args.plot = True\n",
    "args.data_components = 10\n",
    "args.lr = 1e-1\n",
    "args.run_id = 1\n",
    "\n",
    "log_dir = meta_main(args)\n",
    "plot_pdf(join(log_dir, '1', 'pdfs_KNIFE_0.json'), show=True)"
   ]
  },
  {
   "cell_type": "markdown",
   "metadata": {},
   "source": [
    "### Experiment depicted in Figure 2(right)"
   ]
  },
  {
   "cell_type": "code",
   "execution_count": null,
   "metadata": {},
   "outputs": [],
   "source": [
    "args = get_args([])\n",
    "args.batchsize = 128\n",
    "args.kernel_samples = 128\n",
    "args.epochs = 20\n",
    "args.iterations = 1000\n",
    "args.pdf = 'triangle'\n",
    "args.dimension = 8\n",
    "args.data_components = 2\n",
    "args.lr = 1e-3\n",
    "args.reps = 3\n",
    "\n",
    "log_dir = meta_main(args)\n",
    "plot_entropy(join(log_dir, '1', 'run.json'), show=True)"
   ]
  },
  {
   "cell_type": "markdown",
   "metadata": {},
   "source": [
    "### Experiment in supplementary material, B.2"
   ]
  },
  {
   "cell_type": "code",
   "execution_count": null,
   "metadata": {},
   "outputs": [],
   "source": [
    "args = get_args([])\n",
    "args.batchsize = 128\n",
    "args.kernel_samples = 128\n",
    "args.epochs = 20\n",
    "args.iterations = 1000\n",
    "args.pdf = 'triangle'\n",
    "args.dimension = 20\n",
    "args.data_components = 2\n",
    "args.lr = 1e-3\n",
    "args.reps = 10\n",
    "\n",
    "log_dir = meta_main(args)\n",
    "plot_entropy(join(log_dir, '1', 'run.json'), show=True)"
   ]
  },
  {
   "cell_type": "code",
   "execution_count": null,
   "metadata": {},
   "outputs": [],
   "source": []
  }
 ],
 "metadata": {
  "kernelspec": {
   "display_name": "Python 3",
   "language": "python",
   "name": "python3"
  },
  "language_info": {
   "codemirror_mode": {
    "name": "ipython",
    "version": 3
   },
   "file_extension": ".py",
   "mimetype": "text/x-python",
   "name": "python",
   "nbconvert_exporter": "python",
   "pygments_lexer": "ipython3",
   "version": "3.9.7"
  }
 },
 "nbformat": 4,
 "nbformat_minor": 4
}
